{
  "nbformat": 4,
  "nbformat_minor": 0,
  "metadata": {
    "colab": {
      "provenance": [],
      "collapsed_sections": [],
      "authorship_tag": "ABX9TyMgecJ1GZ1k0RjsA62jamEi",
      "include_colab_link": true
    },
    "kernelspec": {
      "name": "python3",
      "display_name": "Python 3"
    },
    "language_info": {
      "name": "python"
    },
    "accelerator": "GPU"
  },
  "cells": [
    {
      "cell_type": "markdown",
      "metadata": {
        "id": "view-in-github",
        "colab_type": "text"
      },
      "source": [
        "<a href=\"https://colab.research.google.com/github/Kayalks/deep_learning/blob/master/cnn_cifar10_dataset.ipynb\" target=\"_parent\"><img src=\"https://colab.research.google.com/assets/colab-badge.svg\" alt=\"Open In Colab\"/></a>"
      ]
    },
    {
      "cell_type": "markdown",
      "source": [
        "#**CNN Image Classification**                "
      ],
      "metadata": {
        "id": "a4e2NVDLBZvZ"
      }
    },
    {
      "cell_type": "markdown",
      "source": [
        "# Import Libraries"
      ],
      "metadata": {
        "id": "g25y_Ra_B7eM"
      }
    },
    {
      "cell_type": "code",
      "execution_count": 1,
      "metadata": {
        "id": "9emCOrvYX7ti"
      },
      "outputs": [],
      "source": [
        "import keras.utils\n",
        "import tensorflow as tf\n",
        "from tensorflow.keras import datasets, layers, models\n",
        "import matplotlib.pyplot as plt\n",
        "import numpy as np\n",
        "from sklearn.metrics import classification_report, confusion_matrix, accuracy_score\n",
        "from google.colab.patches import cv2_imshow\n"
      ]
    },
    {
      "cell_type": "markdown",
      "source": [
        "# Building the Classifier"
      ],
      "metadata": {
        "id": "VpFPTE0gB_Gt"
      }
    },
    {
      "cell_type": "code",
      "source": [
        "class CNNClassifier:\n",
        "    def __init__(self):\n",
        "        # Initializing the class variables\n",
        "        (self.X_train,self.y_train),(self.X_test,self.y_test) = datasets.cifar10.load_data()\n",
        "        self.y_train = self.y_train.reshape(-1,)\n",
        "        self.y_test = self.y_test.reshape(-1, )\n",
        "        self.classes = ['airplane','automobile','bird','cat','deer','dog','frog','horse','ship','truck']\n",
        "        self.X_train_scaled = None\n",
        "        self.X_test_scaled = None\n",
        "        self.y_train_categorical = None\n",
        "        self.y_test_categorical = None\n",
        "\n",
        "    def plot_sample(self,X,y,index):\n",
        "        # Plot sample data\n",
        "        plt.figure(figsize=(15,2))\n",
        "        plt.imshow(X[index])\n",
        "        plt.xlabel(self.classes[y[index]])\n",
        "        plt.show()\n",
        "\n",
        "    def normalize_data(self):\n",
        "        ## Normalization of the data\n",
        "        self.X_train_scaled = self.X_train/255\n",
        "        self.X_test_scaled = self.X_test/255\n",
        "        #self.y_train_categorical = keras.utils.to_categorical(self.y_train,num_classes=10,dtype='float32')\n",
        "        #self.y_test_categorical = keras.utils.to_categorical(self.y_test,num_classes=10,dtype='float32')\n",
        "\n",
        "    def cnnModel(self,epochs):\n",
        "        # Building a CNN model\n",
        "        model = keras.Sequential([\n",
        "            #cnn layers\n",
        "            layers.Conv2D(filters=32, kernel_size=(3,3), activation='relu', input_shape=(32,32,3)),\n",
        "            layers.MaxPooling2D((2,2)),\n",
        "            layers.Conv2D(filters=64, kernel_size=(3, 3), activation='relu'),\n",
        "            layers.MaxPooling2D((2, 2)),\n",
        "            layers.Conv2D(filters=128, kernel_size=(3, 3), activation='relu'),\n",
        "            layers.MaxPooling2D((2, 2)),\n",
        "\n",
        "            #dense layers\n",
        "            keras.layers.Flatten(),\n",
        "            keras.layers.Dense(64, activation='relu'),\n",
        "            keras.layers.Dense(10, activation='softmax')\n",
        "        ])\n",
        "\n",
        "        model.compile(optimizer='adam',\n",
        "                      loss='sparse_categorical_crossentropy',\n",
        "                      metrics=['accuracy'])\n",
        "        model.fit(self.X_train_scaled, self.y_train, epochs=epochs)\n",
        "        return model\n",
        "\n",
        "    def sample_NNmodel(self):\n",
        "        # Building a simple ANN model\n",
        "        model = keras.Sequential([\n",
        "            keras.layers.Flatten(input_shape=(32,32,3)),\n",
        "            keras.layers.Dense(3000, activation='relu'),\n",
        "            keras.layers.Dense(1000, activation='relu'),\n",
        "            keras.layers.Dense(10, activation='sigmoid')\n",
        "        ])\n",
        "        model.compile(optimizer='SGD',\n",
        "                      loss='sparse_categorical_crossentropy',\n",
        "                      metrics=['accuracy'])\n",
        "        model.fit(self.X_train_scaled,self.y_train, epochs=5)\n",
        "        return model\n",
        "\n",
        "    def generate_classifcation_report(self,model):\n",
        "        # generate the classification report and return the predictions\n",
        "        y_pred = model.predict(self.X_test_scaled)\n",
        "        y_pred_classes = [np.argmax(element) for element in y_pred]\n",
        "\n",
        "        print(\"Classification report: \\\\n\",classification_report(self.y_test,y_pred_classes))\n",
        "        return y_pred_classes"
      ],
      "metadata": {
        "id": "EaZ1MpYvX_8E"
      },
      "execution_count": 2,
      "outputs": []
    },
    {
      "cell_type": "code",
      "source": [
        "if __name__ == \"__main__\":\n",
        "    # initialize the object instance for the classifier class\n",
        "    cnn = CNNClassifier()\n",
        "    print('Data Summary')\n",
        "    print(\"X_train: \",cnn.X_train.shape)\n",
        "    print(\"X_test: \", cnn.X_test.shape)\n",
        "    print(\"y_train: \", cnn.y_train.shape)\n",
        "    print(\"y_test: \", cnn.y_test.shape)\n",
        "    cnn.plot_sample(cnn.X_train,cnn.y_train,1)\n",
        "\n",
        "    # normalize the dataset\n",
        "    cnn.normalize_data()\n",
        "    print(cnn.X_train_scaled.shape)\n",
        "    \"\"\"\n",
        "    ## Executing the simple ANN\n",
        "    model = cnn.sample_NNmodel()\n",
        "    print(\"Model Evaluation for NN: \\\\n\",model.evaluate(cnn.X_test_scaled,cnn.y_test))\n",
        "    cnn.generate_classifcation_report(model)\n",
        "    \"\"\"\n",
        "    ## Executing the CNN model\n",
        "    model = cnn.cnnModel(epochs = 20)\n",
        "    print(\"Model Evaluation for CNN: \\\\n\", model.evaluate(cnn.X_test_scaled, cnn.y_test))\n",
        "    y_classes = cnn.generate_classifcation_report(model)"
      ],
      "metadata": {
        "colab": {
          "base_uri": "https://localhost:8080/",
          "height": 1000
        },
        "id": "QFHOysHSYF0o",
        "outputId": "d349ab46-a1db-4003-cd9c-64d18672f4c2"
      },
      "execution_count": 3,
      "outputs": [
        {
          "output_type": "stream",
          "name": "stdout",
          "text": [
            "Data Summary\n",
            "X_train:  (50000, 32, 32, 3)\n",
            "X_test:  (10000, 32, 32, 3)\n",
            "y_train:  (50000,)\n",
            "y_test:  (10000,)\n"
          ]
        },
        {
          "output_type": "display_data",
          "data": {
            "text/plain": [
              "<Figure size 1080x144 with 1 Axes>"
            ],
            "image/png": "[encoded data removed]"
          },
          "metadata": {
            "needs_background": "light"
          }
        },
        {
          "output_type": "stream",
          "name": "stdout",
          "text": [
            "(50000, 32, 32, 3)\n",
            "Epoch 1/20\n",
            "1563/1563 [==============================] - 15s 7ms/step - loss: 1.5083 - accuracy: 0.4553\n",
            "Epoch 2/20\n",
            "1563/1563 [==============================] - 8s 5ms/step - loss: 1.1137 - accuracy: 0.6094\n",
            "Epoch 3/20\n",
            "1563/1563 [==============================] - 6s 4ms/step - loss: 0.9518 - accuracy: 0.6680\n",
            "Epoch 4/20\n",
            "1563/1563 [==============================] - 6s 4ms/step - loss: 0.8524 - accuracy: 0.7035\n",
            "Epoch 5/20\n",
            "1563/1563 [==============================] - 6s 4ms/step - loss: 0.7705 - accuracy: 0.7327\n",
            "Epoch 6/20\n",
            "1563/1563 [==============================] - 6s 4ms/step - loss: 0.7102 - accuracy: 0.7528\n",
            "Epoch 7/20\n",
            "1563/1563 [==============================] - 6s 4ms/step - loss: 0.6571 - accuracy: 0.7693\n",
            "Epoch 8/20\n",
            "1563/1563 [==============================] - 6s 4ms/step - loss: 0.6086 - accuracy: 0.7884\n",
            "Epoch 9/20\n",
            "1563/1563 [==============================] - 6s 4ms/step - loss: 0.5714 - accuracy: 0.7997\n",
            "Epoch 10/20\n",
            "1563/1563 [==============================] - 6s 4ms/step - loss: 0.5230 - accuracy: 0.8168\n",
            "Epoch 11/20\n",
            "1563/1563 [==============================] - 6s 4ms/step - loss: 0.4892 - accuracy: 0.8273\n",
            "Epoch 12/20\n",
            "1563/1563 [==============================] - 6s 4ms/step - loss: 0.4590 - accuracy: 0.8380\n",
            "Epoch 13/20\n",
            "1563/1563 [==============================] - 7s 5ms/step - loss: 0.4240 - accuracy: 0.8499\n",
            "Epoch 14/20\n",
            "1563/1563 [==============================] - 6s 4ms/step - loss: 0.3951 - accuracy: 0.8597\n",
            "Epoch 15/20\n",
            "1563/1563 [==============================] - 6s 4ms/step - loss: 0.3637 - accuracy: 0.8718\n",
            "Epoch 16/20\n",
            "1563/1563 [==============================] - 6s 4ms/step - loss: 0.3450 - accuracy: 0.8775\n",
            "Epoch 17/20\n",
            "1563/1563 [==============================] - 6s 4ms/step - loss: 0.3211 - accuracy: 0.8856\n",
            "Epoch 18/20\n",
            "1563/1563 [==============================] - 6s 4ms/step - loss: 0.3007 - accuracy: 0.8925\n",
            "Epoch 19/20\n",
            "1563/1563 [==============================] - 6s 4ms/step - loss: 0.2811 - accuracy: 0.8976\n",
            "Epoch 20/20\n",
            "1563/1563 [==============================] - 6s 4ms/step - loss: 0.2666 - accuracy: 0.9043\n",
            "313/313 [==============================] - 1s 3ms/step - loss: 1.2540 - accuracy: 0.7056\n",
            "Model Evaluation for CNN: \\n [1.2539960145950317, 0.7056000232696533]\n",
            "Classification report: \\n               precision    recall  f1-score   support\n",
            "\n",
            "           0       0.78      0.68      0.73      1000\n",
            "           1       0.80      0.86      0.83      1000\n",
            "           2       0.61      0.59      0.60      1000\n",
            "           3       0.55      0.50      0.53      1000\n",
            "           4       0.72      0.59      0.65      1000\n",
            "           5       0.58      0.66      0.62      1000\n",
            "           6       0.77      0.78      0.78      1000\n",
            "           7       0.75      0.72      0.73      1000\n",
            "           8       0.76      0.86      0.80      1000\n",
            "           9       0.74      0.81      0.78      1000\n",
            "\n",
            "    accuracy                           0.71     10000\n",
            "   macro avg       0.71      0.71      0.70     10000\n",
            "weighted avg       0.71      0.71      0.70     10000\n",
            "\n"
          ]
        }
      ]
    },
    {
      "cell_type": "code",
      "source": [
        "cnn.plot_sample(cnn.X_test,cnn.y_test,33)"
      ],
      "metadata": {
        "colab": {
          "base_uri": "https://localhost:8080/",
          "height": 173
        },
        "id": "Fkf_7lxriO3Q",
        "outputId": "914a66d8-7db2-4d54-f9d5-84c20a4978c2"
      },
      "execution_count": 4,
      "outputs": [
        {
          "output_type": "display_data",
          "data": {
            "text/plain": [
              "<Figure size 1080x144 with 1 Axes>"
            ],
            "image/png": "[encoded data removed]"
          },
          "metadata": {
            "needs_background": "light"
          }
        }
      ]
    },
    {
      "cell_type": "code",
      "source": [
        "cnn.classes[y_classes[33]]"
      ],
      "metadata": {
        "colab": {
          "base_uri": "https://localhost:8080/",
          "height": 35
        },
        "id": "tbKWf4ABYJO5",
        "outputId": "c3616ea7-8302-46ec-f51d-0519dcc1e347"
      },
      "execution_count": 5,
      "outputs": [
        {
          "output_type": "execute_result",
          "data": {
            "text/plain": [
              "'dog'"
            ],
            "application/vnd.google.colaboratory.intrinsic+json": {
              "type": "string"
            }
          },
          "metadata": {},
          "execution_count": 5
        }
      ]
    },
    {
      "cell_type": "code",
      "source": [
        "cm = confusion_matrix(cnn.y_test,y_classes)\n",
        "cm"
      ],
      "metadata": {
        "colab": {
          "base_uri": "https://localhost:8080/"
        },
        "id": "QvnAGqgWcxMr",
        "outputId": "93cef070-66ad-4cd4-ba7d-8a85e8c6f300"
      },
      "execution_count": 6,
      "outputs": [
        {
          "output_type": "execute_result",
          "data": {
            "text/plain": [
              "array([[682,  34,  69,  10,  16,   9,   6,  25, 107,  42],\n",
              "       [  9, 858,   3,   8,   3,   4,   6,   0,  27,  82],\n",
              "       [ 56,  12, 592,  67,  51,  89,  57,  41,  22,  13],\n",
              "       [ 29,  11,  54, 502,  53, 188,  68,  40,  21,  34],\n",
              "       [ 14,   6,  87,  67, 593,  66,  52,  82,  21,  12],\n",
              "       [ 12,   4,  61, 136,  31, 659,  24,  46,  12,  15],\n",
              "       [  9,   5,  47,  59,  23,  38, 782,   7,  18,  12],\n",
              "       [ 13,  10,  37,  39,  52,  76,   7, 723,   7,  36],\n",
              "       [ 34,  43,  13,   8,   2,   6,   4,   2, 856,  32],\n",
              "       [ 22,  90,   8,  12,   5,   6,   8,   4,  36, 809]])"
            ]
          },
          "metadata": {},
          "execution_count": 6
        }
      ]
    },
    {
      "cell_type": "code",
      "source": [
        "import seaborn as sns"
      ],
      "metadata": {
        "id": "0YgtLtlxl9OC"
      },
      "execution_count": 7,
      "outputs": []
    },
    {
      "cell_type": "code",
      "source": [
        "plt.figure(figsize=(25,10))\n",
        "sns.heatmap(cm, annot=True, fmt = 'd')\n",
        "plt.xlabel('predicted')\n",
        "plt.ylabel('Truth')\n",
        "plt.show()\n"
      ],
      "metadata": {
        "colab": {
          "base_uri": "https://localhost:8080/",
          "height": 548
        },
        "id": "sRarKLSTmEaD",
        "outputId": "33a6bd7d-31fe-4ca4-a453-2ba2140518ad"
      },
      "execution_count": 8,
      "outputs": [
        {
          "output_type": "display_data",
          "data": {
            "text/plain": [
              "<Figure size 1800x720 with 2 Axes>"
            ],
            "image/png": "[encoded data removed]"
          },
          "metadata": {
            "needs_background": "light"
          }
        }
      ]
    },
    {
      "cell_type": "code",
      "source": [],
      "metadata": {
        "id": "Fg4pp1kPmPr8"
      },
      "execution_count": 8,
      "outputs": []
    }
  ]
}